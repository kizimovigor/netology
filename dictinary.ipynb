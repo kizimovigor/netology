{
 "cells": [
  {
   "cell_type": "code",
   "execution_count": 67,
   "id": "a67e1264",
   "metadata": {},
   "outputs": [
    {
     "name": "stdout",
     "output_type": "stream",
     "text": [
      "Уникальные гео-метрики:\n",
      " {98, 35, 15, 213, 54, 119}\n"
     ]
    }
   ],
   "source": [
    "    # task 1\n",
    "ids = {'user1': [213, 213, 213, 15, 213], \n",
    "       'user2': [54, 54, 119, 119, 119], \n",
    "       'user3': [213, 98, 98, 35]}\n",
    "ln=[]\n",
    "for value in ids.values():\n",
    "       ln += value\n",
    "print('Уникальные гео-метрики:\\n',set(ln))   \n",
    "    "
   ]
  },
  {
   "cell_type": "code",
   "execution_count": 149,
   "id": "0b51cf4f",
   "metadata": {},
   "outputs": [],
   "source": [
    "    # task 2\n",
    "queries = [\n",
    "    'смотреть сериалы онлайн',\n",
    "    'новости спорта',\n",
    "    'афиша кино',\n",
    "    'курс доллара',\n",
    "    'сериалы этим летом',\n",
    "    'курс по питону',\n",
    "    'сериалы про спорт',\n",
    "]"
   ]
  },
  {
   "cell_type": "code",
   "execution_count": 150,
   "id": "ca4c9eaf",
   "metadata": {},
   "outputs": [
    {
     "name": "stdout",
     "output_type": "stream",
     "text": [
      "Поисковых запросов, содержащих 1 слов(а) 0.0 %\n",
      "Поисковых запросов, содержащих 2 слов(а) 42.857142857142854 %\n",
      "Поисковых запросов, содержащих 3 слов(а) 57.14285714285714 %\n"
     ]
    }
   ],
   "source": [
    "count = 0\n",
    "k1 = 0\n",
    "k2 = 0\n",
    "k3 = 0\n",
    "for words in queries:\n",
    "    count += 1\n",
    "    if len(words.split()) == 1:\n",
    "         k1 += 1\n",
    "    elif len(words.split()) == 2:\n",
    "         k2 += 1\n",
    "    elif len(words.split()) == 3:\n",
    "        k3 += 1\n",
    "print('Поисковых запросов, содержащих 1 слов(а)', k1/count*100,'%')\n",
    "print('Поисковых запросов, содержащих 2 слов(а)', k2/count*100,'%')    \n",
    "print('Поисковых запросов, содержащих 3 слов(а)', k3/count*100,'%')"
   ]
  },
  {
   "cell_type": "code",
   "execution_count": 471,
   "id": "83de9815",
   "metadata": {},
   "outputs": [
    {
     "data": {
      "text/plain": [
       "{'vk': {'revenue': 103, 'cost': 98, 'ROI': 5.102040816326525},\n",
       " 'yandex': {'revenue': 179, 'cost': 153, 'ROI': 16.99346405228759},\n",
       " 'facebook': {'revenue': 103, 'cost': 110, 'ROI': -6.36363636363636},\n",
       " 'adwords': {'revenue': 35, 'cost': 34, 'ROI': 2.941176470588225},\n",
       " 'twitter': {'revenue': 11, 'cost': 24, 'ROI': -54.16666666666667}}"
      ]
     },
     "execution_count": 471,
     "metadata": {},
     "output_type": "execute_result"
    }
   ],
   "source": [
    "    #task3\n",
    "results = {\n",
    "    'vk': {'revenue': 103, 'cost': 98},\n",
    "    'yandex': {'revenue': 179, 'cost': 153},\n",
    "    'facebook': {'revenue': 103, 'cost': 110},\n",
    "    'adwords': {'revenue': 35, 'cost': 34},\n",
    "    'twitter': {'revenue': 11, 'cost': 24},\n",
    "}\n",
    "\n",
    "\n",
    "for company, value in results.items():\n",
    "     value['ROI'] = (value['revenue']/value['cost']-1)*100\n",
    "results   "
   ]
  },
  {
   "cell_type": "code",
   "execution_count": 143,
   "id": "58a1a624",
   "metadata": {},
   "outputs": [],
   "source": [
    "    #task4\n",
    "stats = {'facebook': 55, 'yandex': 115, 'vk': 120, 'google': 99, 'email': 42, 'ok': 98}\n"
   ]
  },
  {
   "cell_type": "code",
   "execution_count": 139,
   "id": "b08d4352",
   "metadata": {},
   "outputs": [
    {
     "name": "stdout",
     "output_type": "stream",
     "text": [
      "Максимальный объем продаж на рекламном канале: vk\n"
     ]
    }
   ],
   "source": [
    "for company, value in stats.items():\n",
    "    if value == max(stats.values()):\n",
    "            print('Максимальный объем продаж на рекламном канале:',company)\n",
    "    "
   ]
  },
  {
   "cell_type": "code",
   "execution_count": 142,
   "id": "b0163aec",
   "metadata": {},
   "outputs": [
    {
     "name": "stdout",
     "output_type": "stream",
     "text": [
      "vk\n"
     ]
    },
    {
     "data": {
      "text/plain": [
       "{None}"
      ]
     },
     "execution_count": 142,
     "metadata": {},
     "output_type": "execute_result"
    }
   ],
   "source": [
    "{print(company) for company, value in stats.items() if value == max(stats.values())}"
   ]
  },
  {
   "cell_type": "code",
   "execution_count": 432,
   "id": "7b77aa66",
   "metadata": {},
   "outputs": [],
   "source": [
    "    #task 5\n",
    "my_list = ['a', 'b', 'c', 'd', 'e', 'f']\n",
    "my_dict = {my_list[len(my_list)-2]:my_list[len(my_list)-1]}\n",
    "i = -3\n",
    "\n"
   ]
  },
  {
   "cell_type": "code",
   "execution_count": 433,
   "id": "3f05c410",
   "metadata": {},
   "outputs": [
    {
     "name": "stdout",
     "output_type": "stream",
     "text": [
      "{'a': {'b': {'c': {'d': {'e': 'f'}}}}}\n"
     ]
    }
   ],
   "source": [
    "while i !=  -len(my_list)-1:            \n",
    "    my_dict = {my_list[i]:my_dict}\n",
    "    i-=1\n",
    "print(my_dict)"
   ]
  },
  {
   "cell_type": "code",
   "execution_count": 781,
   "id": "84e09368",
   "metadata": {},
   "outputs": [
    {
     "name": "stdout",
     "output_type": "stream",
     "text": [
      "['с', 'ы', 'р']\n"
     ]
    }
   ],
   "source": [
    "    # task 6  не выполненно. невыполненно \n",
    "cook_book = {\n",
    "  'салат': [\n",
    "     {'ingridient_name': 'сыр', 'quantity': 50, 'measure': 'гр'},\n",
    "     {'ingridient_name': 'томаты', 'quantity': 2, 'measure': 'шт'},\n",
    "     {'ingridient_name': 'огурцы', 'quantity': 20, 'measure': 'гр'},\n",
    "     {'ingridient_name': 'маслины', 'quantity': 10, 'measure': 'гр'},\n",
    "     {'ingridient_name': 'оливковое масло', 'quantity': 20, 'measure': 'мл'},\n",
    "     {'ingridient_name': 'салат', 'quantity': 10, 'measure': 'гр'},\n",
    "     {'ingridient_name': 'перец', 'quantity': 20, 'measure': 'гр'}\n",
    "    ],\n",
    "  'пицца': [\n",
    "     {'ingridient_name': 'сыр', 'quantity': 20, 'measure': 'гр'},\n",
    "     {'ingridient_name': 'колбаса', 'quantity': 30, 'measure': 'гр'},\n",
    "     {'ingridient_name': 'бекон', 'quantity': 30, 'measure': 'гр'},\n",
    "     {'ingridient_name': 'оливки', 'quantity': 10, 'measure': 'гр'},\n",
    "     {'ingridient_name': 'томаты', 'quantity': 20, 'measure': 'гр'},\n",
    "     {'ingridient_name': 'тесто', 'quantity': 100, 'measure': 'гр'},   \n",
    "    ],\n",
    "  'лимонад': [\n",
    "     {'ingridient_name': 'лимон', 'quantity': 1, 'measure': 'шт'},\n",
    "     {'ingridient_name': 'вода', 'quantity': 200, 'measure': 'мл'},\n",
    "     {'ingridient_name': 'сахар', 'quantity': 10, 'measure': 'гр'},\n",
    "     {'ingridient_name': 'лайм', 'quantity': 20, 'measure': 'гр'},    \n",
    "    ]\n",
    "}\n",
    "key1=[]\n",
    "key2=[]\n",
    "k=[]\n",
    "print(key)"
   ]
  },
  {
   "cell_type": "code",
   "execution_count": 783,
   "id": "a5f1f95e",
   "metadata": {},
   "outputs": [
    {
     "name": "stdout",
     "output_type": "stream",
     "text": [
      "{'ingridient_name': 'сыр', 'quantity': 50, 'measure': 'гр'}\n",
      "{'ingridient_name': 'томаты', 'quantity': 2, 'measure': 'шт'}\n",
      "{'ingridient_name': 'огурцы', 'quantity': 20, 'measure': 'гр'}\n",
      "{'ingridient_name': 'маслины', 'quantity': 10, 'measure': 'гр'}\n",
      "{'ingridient_name': 'оливковое масло', 'quantity': 20, 'measure': 'мл'}\n",
      "{'ingridient_name': 'салат', 'quantity': 10, 'measure': 'гр'}\n",
      "{'ingridient_name': 'перец', 'quantity': 20, 'measure': 'гр'}\n",
      "{'ingridient_name': 'сыр', 'quantity': 20, 'measure': 'гр'}\n",
      "{'ingridient_name': 'колбаса', 'quantity': 30, 'measure': 'гр'}\n",
      "{'ingridient_name': 'бекон', 'quantity': 30, 'measure': 'гр'}\n",
      "{'ingridient_name': 'оливки', 'quantity': 10, 'measure': 'гр'}\n",
      "{'ingridient_name': 'томаты', 'quantity': 20, 'measure': 'гр'}\n",
      "{'ingridient_name': 'тесто', 'quantity': 100, 'measure': 'гр'}\n",
      "{'ingridient_name': 'лимон', 'quantity': 1, 'measure': 'шт'}\n",
      "{'ingridient_name': 'вода', 'quantity': 200, 'measure': 'мл'}\n",
      "{'ingridient_name': 'сахар', 'quantity': 10, 'measure': 'гр'}\n",
      "{'ingridient_name': 'лайм', 'quantity': 20, 'measure': 'гр'}\n",
      "{'перец', 'колбаса', 'бекон', 'салат', 'сахар', 'вода', 'тесто', 'сыр', 'огурцы', 'оливки', 'оливковое масло', 'маслины', 'лайм', 'томаты', 'лимон'}\n"
     ]
    }
   ],
   "source": [
    "#n = int(input('Введите количество порций:'))\n",
    "for food, value in cook_book.items():\n",
    "    for i in value:\n",
    "        \n",
    "        key1 += (i['ingridient_name'],)\n",
    "        key2 += (i['measure'],) \n",
    "        k.append(i['quantity'])\n",
    "        print(i)\n",
    "x=set(key1)\n",
    "print(x)"
   ]
  },
  {
   "cell_type": "code",
   "execution_count": 776,
   "id": "2160a40d",
   "metadata": {},
   "outputs": [
    {
     "data": {
      "text/plain": [
       "{'бекон',\n",
       " 'вода',\n",
       " 'колбаса',\n",
       " 'лайм',\n",
       " 'лимон',\n",
       " 'маслины',\n",
       " 'огурцы',\n",
       " 'оливки',\n",
       " 'оливковое масло',\n",
       " 'перец',\n",
       " 'салат',\n",
       " 'сахар',\n",
       " 'сыр',\n",
       " 'тесто',\n",
       " 'томаты'}"
      ]
     },
     "execution_count": 776,
     "metadata": {},
     "output_type": "execute_result"
    }
   ],
   "source": [
    "for food, value in cook_book.items():\n",
    "    for i in value:\n",
    "        if i['ingridient_name'] in x and i['measure'] == \n"
   ]
  },
  {
   "cell_type": "code",
   "execution_count": null,
   "id": "926df77a",
   "metadata": {},
   "outputs": [],
   "source": []
  },
  {
   "cell_type": "code",
   "execution_count": null,
   "id": "f511db2f",
   "metadata": {},
   "outputs": [],
   "source": [
    "\n"
   ]
  },
  {
   "cell_type": "code",
   "execution_count": null,
   "id": "83c8cdc8",
   "metadata": {},
   "outputs": [],
   "source": []
  },
  {
   "cell_type": "code",
   "execution_count": null,
   "id": "41b2d0b3",
   "metadata": {},
   "outputs": [],
   "source": []
  }
 ],
 "metadata": {
  "kernelspec": {
   "display_name": "Python 3",
   "language": "python",
   "name": "python3"
  },
  "language_info": {
   "codemirror_mode": {
    "name": "ipython",
    "version": 3
   },
   "file_extension": ".py",
   "mimetype": "text/x-python",
   "name": "python",
   "nbconvert_exporter": "python",
   "pygments_lexer": "ipython3",
   "version": "3.8.8"
  }
 },
 "nbformat": 4,
 "nbformat_minor": 5
}
