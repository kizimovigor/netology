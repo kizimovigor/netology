{
 "cells": [
  {
   "cell_type": "code",
   "execution_count": 272,
   "id": "774c7247",
   "metadata": {},
   "outputs": [],
   "source": [
    "documents = [\n",
    " {'type': 'passport', 'number': '2207 876234', 'name': 'Василий Гупкин'},\n",
    " {'type': 'invoice', 'number': '11-2', 'name': 'Геннадий Покемонов'},\n",
    " {'type': 'insurance', 'number': '10006', 'name': 'Аристарх Павлов'}\n",
    "]\n",
    "\n",
    "directories = {\n",
    " '1': ['2207 876234', '11-2'],\n",
    " '2': ['10006'],\n",
    " '3': []\n",
    "}\n",
    "\n"
   ]
  },
  {
   "cell_type": "code",
   "execution_count": null,
   "id": "bd9edf35",
   "metadata": {},
   "outputs": [],
   "source": []
  },
  {
   "cell_type": "code",
   "execution_count": 329,
   "id": "5085e09e",
   "metadata": {},
   "outputs": [],
   "source": [
    "# функция удалени полок\n",
    "def ds(n):\n",
    "    \n",
    "    if directories[n] == []:\n",
    "        del(directories[n])\n",
    "        print('Полка удалена. Текущий перечень полок:',list(directories.keys()))        \n",
    "    else:\n",
    "        print('На полке есть документы, удалите их перед удалением полки. Текущий перечень полок:',list(directories.keys()))\n",
    "    return"
   ]
  },
  {
   "cell_type": "code",
   "execution_count": 330,
   "id": "275c8eac",
   "metadata": {},
   "outputs": [],
   "source": [
    "# функция добавления полок\n",
    "def ads(n):\n",
    "    \n",
    "    if n in directories.keys():\n",
    "        \n",
    "        print('Такая полка уже существует. Текущий перечень полок:',list(directories.keys()))        \n",
    "    else:\n",
    "        \n",
    "        directories[n] = []\n",
    "        print('Полка добавлена. Текущий перечень полок:',list(directories.keys()))\n",
    "    return\n"
   ]
  },
  {
   "cell_type": "code",
   "execution_count": 331,
   "id": "9fa815e6",
   "metadata": {},
   "outputs": [],
   "source": [
    "# функция перечень всей информации по всем документам\n",
    "def l(n):\n",
    "\n",
    "    for i in documents:\n",
    "          print('№:',i['number'],' тип:',i['type'],' владелец:',i['name'],' полка хранения:',s(i['number']))\n",
    "    return"
   ]
  },
  {
   "cell_type": "code",
   "execution_count": 332,
   "id": "7f092cf7",
   "metadata": {},
   "outputs": [],
   "source": [
    "# функция поиска фамилии о номеру документа(1,1)\n",
    "def p(n):\n",
    "    result = None\n",
    "    for i in documents:\n",
    "        if i['number'] == n:\n",
    "            result = i['name']\n",
    "    return(result)  "
   ]
  },
  {
   "cell_type": "code",
   "execution_count": 333,
   "id": "1afd4093",
   "metadata": {},
   "outputs": [],
   "source": [
    "#функция поиска номера полки по номеру документа(1,2)\n",
    "def s(n):\n",
    "    result = None\n",
    "    for i,j in directories.items():\n",
    "        if n in j:\n",
    "            result = i\n",
    "    return(result)\n",
    "\n"
   ]
  },
  {
   "cell_type": "code",
   "execution_count": 359,
   "id": "6ba2c287",
   "metadata": {},
   "outputs": [
    {
     "name": "stdout",
     "output_type": "stream",
     "text": [
      "Введите команду:\n",
      "q\n"
     ]
    }
   ],
   "source": [
    "# Программа. \n",
    "x=1\n",
    "while x != 'q':\n",
    "    \n",
    "    x=input('Введите команду:\\n' )\n",
    "    if x == 'p':\n",
    "        n = input('Ввведите номер документа:\\n')\n",
    "        if p(n) != None:\n",
    "            print('Владеле документа:',p(n))\n",
    "        else:\n",
    "            print('Владелец документа не найден')\n",
    "    elif x == 's':\n",
    "        n = input('Ввведите номер документа:\\n')\n",
    "        if s(n) != None:\n",
    "            print('Документ хранится на полке:',s(n))\n",
    "        else:\n",
    "            print('Документ не найден в базе')\n",
    "    elif x == 'l':\n",
    "        l(n)\n",
    "    elif x == 'ads':\n",
    "        n  = input('Ввведите номер полки:\\n')\n",
    "        ads(n)\n",
    "    elif x == 'ds':\n",
    "        n = input('Ввведите номер полки:\\n')\n",
    "        ds(n)\n"
   ]
  },
  {
   "cell_type": "code",
   "execution_count": 339,
   "id": "0a4b67a7",
   "metadata": {},
   "outputs": [
    {
     "name": "stdout",
     "output_type": "stream",
     "text": [
      "Введите команду:\n",
      "ads\n",
      "Ввведите номер полки:\n",
      "3\n",
      "Полка добавлена. Текущий перечень полок: ['1', '2', '3']\n"
     ]
    }
   ],
   "source": [
    "\n"
   ]
  },
  {
   "cell_type": "code",
   "execution_count": null,
   "id": "96e2eaf4",
   "metadata": {},
   "outputs": [],
   "source": []
  },
  {
   "cell_type": "code",
   "execution_count": null,
   "id": "480ca82b",
   "metadata": {},
   "outputs": [],
   "source": []
  },
  {
   "cell_type": "code",
   "execution_count": 364,
   "id": "6f60c1fa",
   "metadata": {},
   "outputs": [
    {
     "ename": "KeyError",
     "evalue": "'3'",
     "output_type": "error",
     "traceback": [
      "\u001b[1;31m---------------------------------------------------------------------------\u001b[0m",
      "\u001b[1;31mKeyError\u001b[0m                                  Traceback (most recent call last)",
      "\u001b[1;32m<ipython-input-364-8de81c3c5941>\u001b[0m in \u001b[0;36m<module>\u001b[1;34m\u001b[0m\n\u001b[0;32m      1\u001b[0m \u001b[1;31m# НЕ онимаю где ошибка в коде! Перенабрал заново. Если можно.\u001b[0m\u001b[1;33m\u001b[0m\u001b[1;33m\u001b[0m\u001b[1;33m\u001b[0m\u001b[0m\n\u001b[0;32m      2\u001b[0m \u001b[1;33m\u001b[0m\u001b[0m\n\u001b[1;32m----> 3\u001b[1;33m \u001b[1;32mif\u001b[0m \u001b[0mdirectories\u001b[0m\u001b[1;33m[\u001b[0m\u001b[1;34m'3'\u001b[0m\u001b[1;33m]\u001b[0m \u001b[1;33m!=\u001b[0m \u001b[1;33m[\u001b[0m\u001b[1;33m]\u001b[0m \u001b[1;33m:\u001b[0m\u001b[1;33m\u001b[0m\u001b[1;33m\u001b[0m\u001b[0m\n\u001b[0m\u001b[0;32m      4\u001b[0m     \u001b[0mprint\u001b[0m\u001b[1;33m(\u001b[0m\u001b[1;34m'1'\u001b[0m\u001b[1;33m,\u001b[0m\u001b[0mlist\u001b[0m\u001b[1;33m(\u001b[0m\u001b[0mdirectories\u001b[0m\u001b[1;33m.\u001b[0m\u001b[0mkeys\u001b[0m\u001b[1;33m(\u001b[0m\u001b[1;33m)\u001b[0m\u001b[1;33m)\u001b[0m\u001b[1;33m)\u001b[0m\u001b[1;33m\u001b[0m\u001b[1;33m\u001b[0m\u001b[0m\n\u001b[0;32m      5\u001b[0m \u001b[1;32melse\u001b[0m\u001b[1;33m:\u001b[0m\u001b[1;33m\u001b[0m\u001b[1;33m\u001b[0m\u001b[0m\n",
      "\u001b[1;31mKeyError\u001b[0m: '3'"
     ]
    }
   ],
   "source": [
    "\n"
   ]
  },
  {
   "cell_type": "code",
   "execution_count": null,
   "id": "f613efad",
   "metadata": {},
   "outputs": [],
   "source": [
    "\n"
   ]
  },
  {
   "cell_type": "code",
   "execution_count": null,
   "id": "0f3c8f7b",
   "metadata": {},
   "outputs": [],
   "source": [
    "\n"
   ]
  },
  {
   "cell_type": "code",
   "execution_count": null,
   "id": "2d60b1bf",
   "metadata": {},
   "outputs": [],
   "source": []
  },
  {
   "cell_type": "code",
   "execution_count": null,
   "id": "a2bc019a",
   "metadata": {},
   "outputs": [],
   "source": []
  },
  {
   "cell_type": "code",
   "execution_count": null,
   "id": "103ba5d9",
   "metadata": {},
   "outputs": [],
   "source": []
  },
  {
   "cell_type": "code",
   "execution_count": null,
   "id": "a67f027a",
   "metadata": {},
   "outputs": [],
   "source": []
  }
 ],
 "metadata": {
  "kernelspec": {
   "display_name": "Python 3",
   "language": "python",
   "name": "python3"
  },
  "language_info": {
   "codemirror_mode": {
    "name": "ipython",
    "version": 3
   },
   "file_extension": ".py",
   "mimetype": "text/x-python",
   "name": "python",
   "nbconvert_exporter": "python",
   "pygments_lexer": "ipython3",
   "version": "3.8.8"
  }
 },
 "nbformat": 4,
 "nbformat_minor": 5
}
