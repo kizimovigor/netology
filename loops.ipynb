{
 "cells": [
  {
   "cell_type": "code",
   "execution_count": 61,
   "id": "02dadbe4",
   "metadata": {},
   "outputs": [
    {
     "name": "stdout",
     "output_type": "stream",
     "text": [
      "Введите слово testing\n",
      "Результат:\n",
      " t\n"
     ]
    }
   ],
   "source": [
    "     # task1\n",
    "word = input('Введите слово ' )\n",
    "\n",
    "if len(word) % 2 == 0:  \n",
    "    print('Результат:\\n',word[int(len(word)/2-1):int(len(word)/2+1)])\n",
    "else:\n",
    "    print('Результат:\\n',word[int(len(word)/2-0.5)])\n",
    "       "
   ]
  },
  {
   "cell_type": "code",
   "execution_count": 59,
   "id": "6b1d05ef",
   "metadata": {},
   "outputs": [
    {
     "name": "stdout",
     "output_type": "stream",
     "text": [
      "Введите число \n",
      "1\n",
      "Введите число \n",
      "4\n",
      "Введите число \n",
      "6\n",
      "Введите число \n",
      "0\n",
      "Результат: \n",
      " 11\n"
     ]
    }
   ],
   "source": [
    "    #task2\n",
    "i=999999999999\n",
    "summa = 0\n",
    "while i != 0:\n",
    "        i = int(input('Введите число \\n'))\n",
    "        summa +=  i\n",
    "print('Результат: \\n',summa)\n",
    "   "
   ]
  },
  {
   "cell_type": "code",
   "execution_count": 35,
   "id": "1f422e80",
   "metadata": {},
   "outputs": [
    {
     "name": "stdout",
     "output_type": "stream",
     "text": [
      "Идеальные пары:\n",
      "Alex  и  Emma\n",
      "Arthur  и  Kate\n",
      "John  и  Kira\n",
      "Peter  и  Liza\n",
      "Richard  и  Trisha\n"
     ]
    }
   ],
   "source": [
    " #task3\n",
    "boys =  ['Peter', 'Alex', 'John', 'Arthur', 'Richard',]\n",
    "girls = ['Kate', 'Liza', 'Kira', 'Emma', 'Trisha']\n",
    "if len(boys) == len(girls):\n",
    "    i = 0\n",
    "    boys = sorted(boys)\n",
    "    girls = sorted(girls)\n",
    "    print('Идеальные пары:')\n",
    "    while i != len(boys):\n",
    "        print(boys[i],' и ',girls[i])\n",
    "        i += 1\n",
    "else:\n",
    "    print('Внимание, кто-то может остаться без пары!')\n"
   ]
  },
  {
   "cell_type": "code",
   "execution_count": 106,
   "id": "16f5045a",
   "metadata": {},
   "outputs": [],
   "source": [
    "    #task4\n",
    "countries_temperature = [\n",
    "    ['Thailand', [75.2, 77, 78.8, 73.4, 68, 75.2, 77]],\n",
    "    ['Germany', [57.2, 55.4, 59, 59, 53.6]],\n",
    "    ['Russia', [35.6, 37.4, 39.2, 41, 42.8, 39.2, 35.6]],\n",
    "    ['Poland', [50, 50, 53.6, 57.2, 55.4, 55.4]]\n",
    "    ]"
   ]
  },
  {
   "cell_type": "code",
   "execution_count": 107,
   "id": "b8769df9",
   "metadata": {},
   "outputs": [
    {
     "name": "stdout",
     "output_type": "stream",
     "text": [
      "Thailand  -  23.85714285714285\n",
      "Germany  -  13.799999999999999\n",
      "Russia  -  3.714285714285717\n",
      "Poland  -  11.999999999999996\n"
     ]
    }
   ],
   "source": [
    "for temp in countries_temperature:      # понадобилось 103 попытки что-бы понять как работает for и написать одну строку кода. \n",
    "    \n",
    "    print(temp[0] , ' - ' ,(sum(temp[1])/len(temp[1])-32)*5/9)\n",
    "    \n",
    "\n"
   ]
  },
  {
   "cell_type": "markdown",
   "id": "fc0ab59f",
   "metadata": {},
   "source": [
    "TASK #5"
   ]
  },
  {
   "cell_type": "code",
   "execution_count": 164,
   "id": "fab3e2bd",
   "metadata": {},
   "outputs": [],
   "source": [
    "stream = [\n",
    "    '2018-01-01,user1,3',\n",
    "    '2018-01-07,user1,4',\n",
    "    '2018-03-29,user1,1',\n",
    "    '2018-04-04,user1,13',\n",
    "    '2018-01-05,user2,7',\n",
    "    '2018-06-14,user3,4',\n",
    "    '2018-07-02,user3,10',\n",
    "    '2018-03-21,user4,19',\n",
    "    '2018-03-22,user4,4',\n",
    "    '2018-04-22,user4,8',\n",
    "    '2018-05-03,user4,9',\n",
    "    '2018-05-11,user4,11',\n",
    "]\n"
   ]
  },
  {
   "cell_type": "code",
   "execution_count": 166,
   "id": "c73848e7",
   "metadata": {},
   "outputs": [
    {
     "name": "stdout",
     "output_type": "stream",
     "text": [
      "Среднее количество просмотров на уникального пользователя: 23.25\n"
     ]
    }
   ],
   "source": [
    "s = 0\n",
    "count = 0\n",
    "uniq =[]\n",
    "for user in stream:# x - строка(переменная) каждой итерации, используется для получения значений user и кол-ва просмотров\n",
    "    x=user.split(',')    \n",
    "    s += int(x[2])\n",
    "    if x[1] not in uniq:\n",
    "        count += 1\n",
    "        uniq.append(x[1])\n",
    "print('Среднее количество просмотров на уникального пользователя:', s/count)\n",
    "\n",
    "        "
   ]
  },
  {
   "cell_type": "code",
   "execution_count": 229,
   "id": "83d9d4d6",
   "metadata": {},
   "outputs": [
    {
     "name": "stdout",
     "output_type": "stream",
     "text": [
      "Введите числа:\n",
      "10 15 15 103 200 200 200 1 1 1 1 1 2 2 2\n",
      "Результат: \n",
      " [1, 2, 15, 200]\n"
     ]
    }
   ],
   "source": [
    "#task 6\n",
    "lst=(input('Введите числа:\\n' ))\n",
    "lst1 = []\n",
    "lst2 = []\n",
    "lst3 = []\n",
    "for i in lst.split(' '):# lst1 - список уникальных\n",
    "    x = int(i)\n",
    "    if x not in lst1: \n",
    "        lst1.append(x)\n",
    "    else:\n",
    "        lst2.append(x)# list2 - список ВСЕХ повторяющихся обьектов\n",
    "for i in lst2:\n",
    "    if i not in lst3:# list3 - список повторяющихся обьектов\n",
    "        lst3.append(i)\n",
    "     \n",
    "print('Результат: \\n',sorted(lst3))\n",
    "    "
   ]
  },
  {
   "cell_type": "code",
   "execution_count": null,
   "id": "57e44993",
   "metadata": {},
   "outputs": [],
   "source": []
  },
  {
   "cell_type": "code",
   "execution_count": null,
   "id": "ca5f3b42",
   "metadata": {},
   "outputs": [],
   "source": []
  }
 ],
 "metadata": {
  "kernelspec": {
   "display_name": "Python 3",
   "language": "python",
   "name": "python3"
  },
  "language_info": {
   "codemirror_mode": {
    "name": "ipython",
    "version": 3
   },
   "file_extension": ".py",
   "mimetype": "text/x-python",
   "name": "python",
   "nbconvert_exporter": "python",
   "pygments_lexer": "ipython3",
   "version": "3.8.8"
  }
 },
 "nbformat": 4,
 "nbformat_minor": 5
}
