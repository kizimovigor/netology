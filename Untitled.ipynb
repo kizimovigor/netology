{
 "cells": [
  {
   "cell_type": "code",
   "execution_count": null,
   "id": "e93bd5b1",
   "metadata": {},
   "outputs": [],
   "source": []
  }
 ],
 "metadata": {
  "kernelspec": {
   "display_name": "Python 3",
   "language": "python",
   "name": "python3"
  }
 },
 "nbformat": 4,
 "nbformat_minor": 5
}
