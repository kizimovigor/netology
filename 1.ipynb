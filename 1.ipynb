{
 "cells": [
  {
   "cell_type": "code",
   "execution_count": 19,
   "id": "e8cde68c",
   "metadata": {},
   "outputs": [
    {
     "name": "stdout",
     "output_type": "stream",
     "text": [
      "фраза1 длинее фразы2\n"
     ]
    }
   ],
   "source": [
    "phrase_1 = 'Насколько проще было бы писать программы, если бы не заказчики'\n",
    "phrase_2 = '640Кб должно хватить для любых задач. Билл Гейтс (по легенде)'\n",
    "if len(phrase_1) > len(phrase_2):\n",
    "    print('фраза1 длинее фразы2')\n",
    "elif len(phrase_1) < len(phrase_2):\n",
    "    print('фраза2 длинее фразы1')\n",
    "else:\n",
    "    print('фразы равны')"
   ]
  },
  {
   "cell_type": "code",
   "execution_count": 20,
   "id": "8be71355",
   "metadata": {},
   "outputs": [
    {
     "name": "stdout",
     "output_type": "stream",
     "text": [
      "фраза2 длинее фразы1\n"
     ]
    }
   ],
   "source": [
    "phrase_1 = '640Кб должно хватить для любых задач. Билл Гейтс (по легенде)'\n",
    "phrase_2 = 'Насколько проще было бы писать программы, если бы не заказчики'\n",
    "if len(phrase_1) > len(phrase_2):\n",
    "    print('фраза1 длинее фразы2')\n",
    "elif len(phrase_1) < len(phrase_2):\n",
    "    print('фраза2 длинее фразы1')\n",
    "else:\n",
    "    print('фразы равны')"
   ]
  },
  {
   "cell_type": "code",
   "execution_count": 21,
   "id": "64308d36",
   "metadata": {},
   "outputs": [
    {
     "name": "stdout",
     "output_type": "stream",
     "text": [
      "фразы равны\n"
     ]
    }
   ],
   "source": [
    "phrase_1 = 'Насколько проще было бы писать программы, если бы не заказчики'\n",
    "phrase_2 = 'Насколько проще было бы писать программы, если бы не заказчики'\n",
    "if len(phrase_1) > len(phrase_2):\n",
    "    print('фраза1 длинее фразы2')\n",
    "elif len(phrase_1) < len(phrase_2):\n",
    "    print('фраза2 длинее фразы1')\n",
    "else:\n",
    "    print('фразы равны')"
   ]
  },
  {
   "cell_type": "code",
   "execution_count": 4,
   "id": "57077afe",
   "metadata": {},
   "outputs": [
    {
     "name": "stdout",
     "output_type": "stream",
     "text": [
      "Высокосный год\n"
     ]
    }
   ],
   "source": [
    "year = 2020\n",
    "if year % 4 !=0 or (year % 100 == 0 and year % 400 != 0):\n",
    "    print ('Обычный год')\n",
    "else:\n",
    "    print('Высокосный год')"
   ]
  },
  {
   "cell_type": "code",
   "execution_count": 5,
   "id": "113cf8a1",
   "metadata": {},
   "outputs": [
    {
     "name": "stdout",
     "output_type": "stream",
     "text": [
      "Обычный год\n"
     ]
    }
   ],
   "source": [
    "year = 2019\n",
    "if year % 4 !=0 or (year % 100 == 0 and year % 400 != 0):\n",
    "    print ('Обычный год')\n",
    "else:\n",
    "    print('Высокосный год')"
   ]
  },
  {
   "cell_type": "code",
   "execution_count": 23,
   "id": "0b638559",
   "metadata": {},
   "outputs": [
    {
     "name": "stdout",
     "output_type": "stream",
     "text": [
      "Введите день:29\n",
      "Введите месяц:Октябрь\n",
      "Ваш знак зодиака: скорион\n"
     ]
    }
   ],
   "source": [
    "day = int(input(\"Введите день:\"))\n",
    "month = input(\"Введите месяц:\")\n",
    "\n",
    "if (month == 'Январь' and day >= 22) or (month == 'Февраль' and day <= 18 ):\n",
    "    print(\"Ваш знак зодиака: водолей\")\n",
    "    \n",
    "if (month == 'Февраль' and day >= 19) or (month == 'Март' and day <= 20 ):\n",
    "    print(\"Ваш знак зодиака: рыбы\")\n",
    "\n",
    "if (month == 'Март' and day >= 21) or (month == 'Апрель' and day <= 20 ):\n",
    "    print(\"Ваш знак зодиака: овен\")    \n",
    "\n",
    "if (month == 'Апель' and day >= 21) or (month == 'Май' and day <= 20 ):\n",
    "    print(\"Ваш знак зодиака: телец\") \n",
    "\n",
    "if (month == 'Май' and day >= 21) or (month == 'Июнь' and day <= 20 ):\n",
    "    print(\"Ваш знак зодиака: близнецы\")    \n",
    "    \n",
    "if (month == 'Июнь' and day >= 21) or (month == 'Июль' and day <= 22 ):\n",
    "    print(\"Ваш знак зодиака: рак\")  \n",
    "\n",
    "if (month == 'Июль' and day >= 23) or (month == 'Август' and day <= 22 ):\n",
    "    print(\"Ваш знак зодиака: лев\") \n",
    "\n",
    "if (month == 'Август' and day >= 23) or (month == 'Сентябрь' and day <= 23 ):\n",
    "    print(\"Ваш знак зодиака: дева\")    \n",
    "\n",
    "if (month == 'Сентябрь' and day >= 24) or (month == 'Октябрь' and day <= 23 ):\n",
    "    print(\"Ваш знак зодиака: весы\")   \n",
    "\n",
    "if (month == 'Октябрь' and day >= 24) or (month == 'Ноябрь' and day <= 21 ):\n",
    "    print(\"Ваш знак зодиака: скорион\")   \n",
    "    \n",
    "if (month == 'Ноябрь' and day >= 22) or (month == 'Декабрь' and day <= 21 ):\n",
    "    print(\"Ваш знак зодиака: стрелец\")   \n",
    "\n",
    "if (month == 'Декабрь' and day >= 22) or (month == 'Январь' and day <= 21 ):\n",
    "    print(\"Ваш знак зодиака: козерог\")   \n",
    "    "
   ]
  },
  {
   "cell_type": "code",
   "execution_count": 25,
   "id": "6ddc7322",
   "metadata": {},
   "outputs": [
    {
     "name": "stdout",
     "output_type": "stream",
     "text": [
      "widht=20\n",
      "lenght=10\n",
      "height=13\n",
      "Коробка №2\n"
     ]
    }
   ],
   "source": [
    "w=int(input('widht='))\n",
    "l=int(input('lenght='))\n",
    "h=int(input('height='))\n",
    "if w < 15 and l < 15 and h < 15:\n",
    "    print('Коробка №1')\n",
    "elif (w > 15 and w < 50) or (l > 15 and l < 50) or (h > 15 and h < 50):\n",
    "    print('Коробка №2')\n",
    "elif l > 200:\n",
    "    print('Коробка для лыж')\n",
    "else:\n",
    "    print('Стандартная коробка №3')"
   ]
  },
  {
   "cell_type": "code",
   "execution_count": 39,
   "id": "05ba8cde",
   "metadata": {},
   "outputs": [
    {
     "name": "stdout",
     "output_type": "stream",
     "text": [
      "namber=123321\n",
      "Счастливый билет\n"
     ]
    }
   ],
   "source": [
    "# Счастливый билет\n",
    "\n",
    "n=input('namber=')\n",
    "S1=int(int(n[0])+int(n[1])+int(n[2]))\n",
    "S2=int(int(n[3])+int(n[4])+int(n[5]))\n",
    "if S1 == S2:\n",
    "    print('Счастливый билет')\n",
    "else:\n",
    "    print('Несчастливый билет')\n",
    "\n"
   ]
  },
  {
   "cell_type": "code",
   "execution_count": 46,
   "id": "2ca9afc8",
   "metadata": {},
   "outputs": [
    {
     "name": "stdout",
     "output_type": "stream",
     "text": [
      "Введите тип фигурыТреугольник\n",
      "Введите длину стороны А=2\n",
      "Введите длину стороны B=2\n",
      "Введите длину стороны C=3\n",
      "Площадь треугольника =  1.984313483298443\n"
     ]
    }
   ],
   "source": [
    "# Площадь фигур\n",
    "\n",
    "import math\n",
    "typ = input('Введите тип фигуры')\n",
    "if typ == 'Круг':\n",
    "    r = int(input('радиус круга='))\n",
    "    S = math.pi * r ** 2\n",
    "    print('Площадь круга = ' , S)\n",
    "elif typ == 'Треугольник':\n",
    "    a = int(input('Введите длину стороны А='))\n",
    "    b = int(input('Введите длину стороны B='))\n",
    "    c = int(input('Введите длину стороны C='))\n",
    "    p = (a+b+c)/2\n",
    "    S = math.sqrt (p * (p - a) * (p - b) * (p - c))\n",
    "    print('Площадь треугольника = ', S)\n",
    "elif typ == 'Прямоугольник':\n",
    "    a = int(input('Введите длину стороны А='))\n",
    "    b = int(input('Введите длину стороны B='))\n",
    "    S= a * b\n",
    "    print('Площадь прямоугольника = ' ,S)\n",
    "else:\n",
    "    print('некорект наяфигура')\n"
   ]
  },
  {
   "cell_type": "code",
   "execution_count": null,
   "id": "25e6e517",
   "metadata": {},
   "outputs": [],
   "source": []
  }
 ],
 "metadata": {
  "kernelspec": {
   "display_name": "Python 3",
   "language": "python",
   "name": "python3"
  },
  "language_info": {
   "codemirror_mode": {
    "name": "ipython",
    "version": 3
   },
   "file_extension": ".py",
   "mimetype": "text/x-python",
   "name": "python",
   "nbconvert_exporter": "python",
   "pygments_lexer": "ipython3",
   "version": "3.8.8"
  }
 },
 "nbformat": 4,
 "nbformat_minor": 5
}
